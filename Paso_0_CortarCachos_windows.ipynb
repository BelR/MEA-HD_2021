{
 "cells": [
  {
   "cell_type": "code",
   "execution_count": null,
   "metadata": {},
   "outputs": [],
   "source": [
    "SCPpath = \"C:\\\\Users\\\\Siby\\\\Dropbox\\\\Proyects\\\\Metodos_MEA\\\\Scripts\\\\Nuevos\";\n",
    "cd( SCPpath ); push!( LOAD_PATH, \".\" ); \n",
    "using All"
   ]
  },
  {
   "cell_type": "code",
   "execution_count": null,
   "metadata": {},
   "outputs": [],
   "source": [
    "file_brw = \"C:\\\\Users\\\\Siby\\\\Desktop\\\\Datos\\\\290421\\\\600-250-1-1.brw\";\n",
    "Salida_cachos = \"C:\\\\Users\\\\Siby\\\\Desktop\\\\Datos\\\\290421\\\\Raw\\\\\";\n",
    "cortar_cachos( file_brw, Salida_cachos )"
   ]
  }
 ],
 "metadata": {
  "kernelspec": {
   "display_name": "Julia 1.6.1",
   "language": "julia",
   "name": "julia-1.6"
  },
  "language_info": {
   "file_extension": ".jl",
   "mimetype": "application/julia",
   "name": "julia",
   "version": "1.6.1"
  }
 },
 "nbformat": 4,
 "nbformat_minor": 2
}
